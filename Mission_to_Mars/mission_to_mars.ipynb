{
 "cells": [
  {
   "cell_type": "code",
   "execution_count": 1,
   "metadata": {},
   "outputs": [],
   "source": [
    "import pymongo\n",
    "import requests\n",
    "import pandas as pd\n",
    "from splinter import Browser\n",
    "from bs4 import BeautifulSoup as bs"
   ]
  },
  {
   "cell_type": "code",
   "execution_count": 2,
   "metadata": {},
   "outputs": [],
   "source": [
    "executable_path = {\"executable_path\": \"Resources/chromedriver.exe\"}\n",
    "browser = Browser(\"chrome\", **executable_path, headless=False)"
   ]
  },
  {
   "cell_type": "code",
   "execution_count": 3,
   "metadata": {},
   "outputs": [
    {
     "data": {
      "text/plain": [
       "\"New evidence suggests salty, shallow ponds once dotted a Martian crater — a sign of the planet's drying climate.\""
      ]
     },
     "execution_count": 3,
     "metadata": {},
     "output_type": "execute_result"
    }
   ],
   "source": [
    "news_url = \"https://mars.nasa.gov/news\"\n",
    "browser.visit(news_url)\n",
    "news_html = browser.html\n",
    "news_soup = bs(news_html, \"lxml\")\n",
    "news_title = news_soup.find('div', class_='content_title').text\n",
    "news_text = news_soup.find('div', class_='article_teaser_body').text\n",
    "# news_title\n",
    "news_text"
   ]
  },
  {
   "cell_type": "code",
   "execution_count": 4,
   "metadata": {},
   "outputs": [
    {
     "data": {
      "text/plain": [
       "'https://www.jpl.nasa.gov/spaceimages/images/mediumsize/PIA17044_ip.jpg'"
      ]
     },
     "execution_count": 4,
     "metadata": {},
     "output_type": "execute_result"
    }
   ],
   "source": [
    "jpl_url = \"https://www.jpl.nasa.gov/spaceimages/?search=&category=Mars\"\n",
    "browser.visit(jpl_url)\n",
    "jpl_html = browser.html\n",
    "jpl_soup = bs(jpl_html, \"lxml\")\n",
    "jpl_img_route = jpl_soup.find(\n",
    "        'a', class_='fancybox').get('data-fancybox-href')\n",
    "base_route = jpl_url.rstrip('spaceimages/?search=&category=Mars')\n",
    "jpl_featured_img = base_route + jpl_img_route\n",
    "jpl_featured_title = jpl_soup.find(\n",
    "        'h1', class_='media_feature_title').text.strip()\n",
    "jpl_featured_img"
   ]
  },
  {
   "cell_type": "code",
   "execution_count": 26,
   "metadata": {},
   "outputs": [
    {
     "data": {
      "text/plain": [
       "'InSight sol 314 (2019-10-15) low -102.8ºC (-153.0ºF) high -24.8ºC (-12.6ºF)\\nwinds from the SSE at 4.9 m/s (11.1 mph) gusting to 19.7 m/s (44.0 mph)\\npressure at 7.20 hPapic.twitter.com/VONawbIeG4'"
      ]
     },
     "execution_count": 26,
     "metadata": {},
     "output_type": "execute_result"
    }
   ],
   "source": [
    "mars_weather_url = \"https://twitter.com/marswxreport?lang=en\"\n",
    "browser.visit(mars_weather_url)\n",
    "mars_weather_html = browser.html\n",
    "mars_weather_soup = bs(mars_weather_html, \"lxml\")\n",
    "mars_weather_tweet = mars_weather_soup.find('p', class_=\"tweet-text\").text.strip()\n",
    "mars_weather_tweet"
   ]
  },
  {
   "cell_type": "code",
   "execution_count": 27,
   "metadata": {},
   "outputs": [
    {
     "data": {
      "text/plain": [
       "'<table border=\"1\" class=\"dataframe\">   <tbody>     <tr>       <td>Diameter:</td>       <td>6,779 km</td>       <td>12,742 km</td>     </tr>     <tr>       <td>Mass:</td>       <td>6.39 × 10^23 kg</td>       <td>5.97 × 10^24 kg</td>     </tr>     <tr>       <td>Moons:</td>       <td>2</td>       <td>1</td>     </tr>     <tr>       <td>Distance from Sun:</td>       <td>227,943,824 km</td>       <td>149,598,262 km</td>     </tr>     <tr>       <td>Length of Year:</td>       <td>687 Earth days</td>       <td>365.24 days</td>     </tr>     <tr>       <td>Temperature:</td>       <td>-153 to 20 °C</td>       <td>-88 to 58°C</td>     </tr>   </tbody> </table>'"
      ]
     },
     "execution_count": 27,
     "metadata": {},
     "output_type": "execute_result"
    }
   ],
   "source": [
    "mars_facts_url = \"https://space-facts.com/mars/\"\n",
    "browser.visit(mars_facts_url)\n",
    "mars_facts_html = browser.html\n",
    "mars_facts_soup = bs(mars_facts_html, \"lxml\")\n",
    "mars_facts_table = pd.read_html(mars_facts_url)[0]\n",
    "mars_facts_table_html = mars_facts_table.to_html(header = False, index = False).replace('\\n', ' ')\n",
    "mars_facts_table_html"
   ]
  },
  {
   "cell_type": "code",
   "execution_count": 25,
   "metadata": {},
   "outputs": [
    {
     "data": {
      "text/plain": [
       "[{'title': 'Cerberus Hemisphere Enhanced',\n",
       "  'url_img': 'http://astropedia.astrogeology.usgs.gov/download/Mars/Viking/cerberus_enhanced.tif/full.jpg'},\n",
       " {'title': 'Schiaparelli Hemisphere Enhanced',\n",
       "  'url_img': 'http://astropedia.astrogeology.usgs.gov/download/Mars/Viking/schiaparelli_enhanced.tif/full.jpg'},\n",
       " {'title': 'Syrtis Major Hemisphere Enhanced',\n",
       "  'url_img': 'http://astropedia.astrogeology.usgs.gov/download/Mars/Viking/syrtis_major_enhanced.tif/full.jpg'},\n",
       " {'title': 'Valles Marineris Hemisphere Enhanced',\n",
       "  'url_img': 'http://astropedia.astrogeology.usgs.gov/download/Mars/Viking/valles_marineris_enhanced.tif/full.jpg'}]"
      ]
     },
     "execution_count": 25,
     "metadata": {},
     "output_type": "execute_result"
    }
   ],
   "source": [
    "mars_hemi_url = \"https://astrogeology.usgs.gov/search/results?q=hemisphere+enhanced&k1=target&v1=Mars\"\n",
    "browser.visit(mars_hemi_url)\n",
    "mars_hemi_html = browser.html\n",
    "mars_hemi_soup = bs(mars_hemi_html, \"lxml\")\n",
    "mars_hemi_img_urls = [] # empty list\n",
    "mars_products = mars_hemi_soup.find(\"div\", class_=\"result-list\")\n",
    "mars_hemispheres = mars_products.find_all(\"div\", class_=\"item\") # grabbing all cotent related to full sized image links\n",
    "\n",
    "for hemisphere in mars_hemispheres: # for loop to run through the 4 chunks of content collected from above line\n",
    "    img_title = hemisphere.find(\"h3\").text\n",
    "    img_title = img_title.replace(\"Enhanced\", \"\")\n",
    "    img_route = hemisphere.find(\"a\")[\"href\"]\n",
    "    img_link = \"https://astrogeology.usgs.gov/\" + img_route\n",
    "    browser.visit(img_link) # going to the above link to grab info/image\n",
    "    img_html = browser.html\n",
    "    img_soup = bs(img_html, \"lxml\")\n",
    "    img_downloads = img_soup.find(\"div\", class_=\"downloads\")\n",
    "    img_url = img_downloads.find(\"a\")[\"href\"]\n",
    "    img_dictionary = {\"text\": img_title, \"url\": img_url} # creating a dictionary of info to insert into the above empty list\n",
    "    mars_hemi_img_urls.append(img_dictionary)\n",
    "hemisphere_image_urls"
   ]
  },
  {
   "cell_type": "markdown",
   "metadata": {},
   "source": []
  }
 ],
 "metadata": {
  "kernelspec": {
   "display_name": "Python 3",
   "language": "python",
   "name": "python3"
  },
  "language_info": {
   "codemirror_mode": {
    "name": "ipython",
    "version": 3
   },
   "file_extension": ".py",
   "mimetype": "text/x-python",
   "name": "python",
   "nbconvert_exporter": "python",
   "pygments_lexer": "ipython3",
   "version": "3.7.3"
  }
 },
 "nbformat": 4,
 "nbformat_minor": 2
}
